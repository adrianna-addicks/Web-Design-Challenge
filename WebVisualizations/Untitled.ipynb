{
 "cells": [
  {
   "cell_type": "code",
   "execution_count": 1,
   "metadata": {},
   "outputs": [],
   "source": [
    "import pandas as pd"
   ]
  },
  {
   "cell_type": "code",
   "execution_count": 5,
   "metadata": {},
   "outputs": [],
   "source": [
    "cities=pd.read_csv('citydatainfo.csv')"
   ]
  },
  {
   "cell_type": "code",
   "execution_count": 6,
   "metadata": {},
   "outputs": [
    {
     "data": {
      "text/html": [
       "<div>\n",
       "<style scoped>\n",
       "    .dataframe tbody tr th:only-of-type {\n",
       "        vertical-align: middle;\n",
       "    }\n",
       "\n",
       "    .dataframe tbody tr th {\n",
       "        vertical-align: top;\n",
       "    }\n",
       "\n",
       "    .dataframe thead th {\n",
       "        text-align: right;\n",
       "    }\n",
       "</style>\n",
       "<table border=\"1\" class=\"dataframe\">\n",
       "  <thead>\n",
       "    <tr style=\"text-align: right;\">\n",
       "      <th></th>\n",
       "      <th>Unnamed: 0</th>\n",
       "      <th>City</th>\n",
       "      <th>Country</th>\n",
       "      <th>Date</th>\n",
       "      <th>Longitude</th>\n",
       "      <th>Latitude</th>\n",
       "      <th>Temperature</th>\n",
       "      <th>Humidity</th>\n",
       "      <th>Cloudiness</th>\n",
       "      <th>Wind Speed</th>\n",
       "    </tr>\n",
       "  </thead>\n",
       "  <tbody>\n",
       "    <tr>\n",
       "      <th>0</th>\n",
       "      <td>0</td>\n",
       "      <td>whyalla</td>\n",
       "      <td>AU</td>\n",
       "      <td>1619910581</td>\n",
       "      <td>137.5833</td>\n",
       "      <td>-33.0333</td>\n",
       "      <td>59.00</td>\n",
       "      <td>82</td>\n",
       "      <td>1</td>\n",
       "      <td>6.91</td>\n",
       "    </tr>\n",
       "    <tr>\n",
       "      <th>1</th>\n",
       "      <td>1</td>\n",
       "      <td>thompson</td>\n",
       "      <td>CA</td>\n",
       "      <td>1619910581</td>\n",
       "      <td>-97.8558</td>\n",
       "      <td>55.7435</td>\n",
       "      <td>23.00</td>\n",
       "      <td>86</td>\n",
       "      <td>90</td>\n",
       "      <td>9.22</td>\n",
       "    </tr>\n",
       "    <tr>\n",
       "      <th>2</th>\n",
       "      <td>2</td>\n",
       "      <td>vanimo</td>\n",
       "      <td>PG</td>\n",
       "      <td>1619910534</td>\n",
       "      <td>141.3028</td>\n",
       "      <td>-2.6741</td>\n",
       "      <td>80.98</td>\n",
       "      <td>80</td>\n",
       "      <td>71</td>\n",
       "      <td>4.61</td>\n",
       "    </tr>\n",
       "    <tr>\n",
       "      <th>3</th>\n",
       "      <td>3</td>\n",
       "      <td>jamestown</td>\n",
       "      <td>US</td>\n",
       "      <td>1619910581</td>\n",
       "      <td>-79.2353</td>\n",
       "      <td>42.0970</td>\n",
       "      <td>56.80</td>\n",
       "      <td>35</td>\n",
       "      <td>90</td>\n",
       "      <td>20.71</td>\n",
       "    </tr>\n",
       "    <tr>\n",
       "      <th>4</th>\n",
       "      <td>4</td>\n",
       "      <td>arraial do cabo</td>\n",
       "      <td>BR</td>\n",
       "      <td>1619910431</td>\n",
       "      <td>-42.0278</td>\n",
       "      <td>-22.9661</td>\n",
       "      <td>72.90</td>\n",
       "      <td>68</td>\n",
       "      <td>100</td>\n",
       "      <td>11.52</td>\n",
       "    </tr>\n",
       "  </tbody>\n",
       "</table>\n",
       "</div>"
      ],
      "text/plain": [
       "   Unnamed: 0             City Country        Date  Longitude  Latitude  \\\n",
       "0           0          whyalla      AU  1619910581   137.5833  -33.0333   \n",
       "1           1         thompson      CA  1619910581   -97.8558   55.7435   \n",
       "2           2           vanimo      PG  1619910534   141.3028   -2.6741   \n",
       "3           3        jamestown      US  1619910581   -79.2353   42.0970   \n",
       "4           4  arraial do cabo      BR  1619910431   -42.0278  -22.9661   \n",
       "\n",
       "   Temperature  Humidity  Cloudiness  Wind Speed  \n",
       "0        59.00        82           1        6.91  \n",
       "1        23.00        86          90        9.22  \n",
       "2        80.98        80          71        4.61  \n",
       "3        56.80        35          90       20.71  \n",
       "4        72.90        68         100       11.52  "
      ]
     },
     "execution_count": 6,
     "metadata": {},
     "output_type": "execute_result"
    }
   ],
   "source": [
    "cities.head()"
   ]
  },
  {
   "cell_type": "code",
   "execution_count": 7,
   "metadata": {},
   "outputs": [],
   "source": [
    "cities.to_html(\"cities.html\")"
   ]
  },
  {
   "cell_type": "code",
   "execution_count": null,
   "metadata": {},
   "outputs": [],
   "source": []
  }
 ],
 "metadata": {
  "kernelspec": {
   "display_name": "Python 3",
   "language": "python",
   "name": "python3"
  },
  "language_info": {
   "codemirror_mode": {
    "name": "ipython",
    "version": 3
   },
   "file_extension": ".py",
   "mimetype": "text/x-python",
   "name": "python",
   "nbconvert_exporter": "python",
   "pygments_lexer": "ipython3",
   "version": "3.8.5"
  }
 },
 "nbformat": 4,
 "nbformat_minor": 4
}
